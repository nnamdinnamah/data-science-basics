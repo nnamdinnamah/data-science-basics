{
 "cells": [
  {
   "cell_type": "code",
   "execution_count": 8,
   "metadata": {},
   "outputs": [],
   "source": [
    "import pandas as pd\n",
    "import numpy as np\n",
    "import seaborn as sns\n",
    "import matplotlib.pyplot as plt\n",
    "\n",
    "%matplotlib inline"
   ]
  },
  {
   "cell_type": "code",
   "execution_count": 14,
   "metadata": {},
   "outputs": [
    {
     "name": "stdout",
     "output_type": "stream",
     "text": [
      "(75241, 18)\n",
      "<class 'pandas.core.frame.DataFrame'>\n",
      "RangeIndex: 75241 entries, 0 to 75240\n",
      "Data columns (total 18 columns):\n",
      " #   Column                          Non-Null Count  Dtype  \n",
      "---  ------                          --------------  -----  \n",
      " 0   id                              75241 non-null  int64  \n",
      " 1   name                            75210 non-null  object \n",
      " 2   host_id                         75241 non-null  int64  \n",
      " 3   host_name                       75235 non-null  object \n",
      " 4   neighbourhood_group             0 non-null      float64\n",
      " 5   neighbourhood                   75241 non-null  object \n",
      " 6   latitude                        75241 non-null  float64\n",
      " 7   longitude                       75241 non-null  float64\n",
      " 8   room_type                       75241 non-null  object \n",
      " 9   price                           75241 non-null  int64  \n",
      " 10  minimum_nights                  75241 non-null  int64  \n",
      " 11  number_of_reviews               75241 non-null  int64  \n",
      " 12  last_review                     56548 non-null  object \n",
      " 13  reviews_per_month               56548 non-null  float64\n",
      " 14  calculated_host_listings_count  75241 non-null  int64  \n",
      " 15  availability_365                75241 non-null  int64  \n",
      " 16  number_of_reviews_ltm           75241 non-null  int64  \n",
      " 17  license                         0 non-null      float64\n",
      "dtypes: float64(5), int64(8), object(5)\n",
      "memory usage: 10.3+ MB\n",
      "None\n",
      "                 id       host_id  neighbourhood_group      latitude  \\\n",
      "count  7.524100e+04  7.524100e+04                  0.0  75241.000000   \n",
      "mean   2.368628e+17  1.390765e+08                  NaN     51.509708   \n",
      "std    3.425911e+17  1.529621e+08                  NaN      0.048369   \n",
      "min    1.391300e+04  2.594000e+03                  NaN     51.295937   \n",
      "25%    1.981740e+07  1.995923e+07                  NaN     51.483540   \n",
      "50%    3.933875e+07  6.745519e+07                  NaN     51.513840   \n",
      "75%    6.562985e+17  2.248670e+08                  NaN     51.539450   \n",
      "max    8.463271e+17  5.050400e+08                  NaN     51.681142   \n",
      "\n",
      "          longitude         price  minimum_nights  number_of_reviews  \\\n",
      "count  75241.000000  75241.000000    75241.000000       75241.000000   \n",
      "mean      -0.128108    175.734453        5.750748          17.974668   \n",
      "std        0.099341    487.362025       24.240947          41.984021   \n",
      "min       -0.497800      0.000000        1.000000           0.000000   \n",
      "25%       -0.189390     60.000000        1.000000           1.000000   \n",
      "50%       -0.126280    100.000000        2.000000           4.000000   \n",
      "75%       -0.068460    180.000000        4.000000          17.000000   \n",
      "max        0.288570  70111.000000     1125.000000        1328.000000   \n",
      "\n",
      "       reviews_per_month  calculated_host_listings_count  availability_365  \\\n",
      "count       56548.000000                    75241.000000      75241.000000   \n",
      "mean            0.877064                       15.756689        113.073896   \n",
      "std             1.234003                       55.537579        132.687784   \n",
      "min             0.010000                        1.000000          0.000000   \n",
      "25%             0.130000                        1.000000          0.000000   \n",
      "50%             0.450000                        1.000000         47.000000   \n",
      "75%             1.090000                        5.000000        228.000000   \n",
      "max            51.050000                      501.000000        365.000000   \n",
      "\n",
      "       number_of_reviews_ltm  license  \n",
      "count           75241.000000      0.0  \n",
      "mean                5.736301      NaN  \n",
      "std                12.991805      NaN  \n",
      "min                 0.000000      NaN  \n",
      "25%                 0.000000      NaN  \n",
      "50%                 0.000000      NaN  \n",
      "75%                 6.000000      NaN  \n",
      "max               564.000000      NaN  \n"
     ]
    }
   ],
   "source": [
    "listings = pd.read_csv('listings.csv')\n",
    "print(listings.shape)\n",
    "# print(listings.head())\n",
    "print(listings.info())\n",
    "print(listings.describe())"
   ]
  },
  {
   "cell_type": "code",
   "execution_count": 16,
   "metadata": {},
   "outputs": [
    {
     "name": "stdout",
     "output_type": "stream",
     "text": [
      "[[714569379355913481 'Lovely private bedroom in Muswell Hill.' 39009854\n",
      "  ... 365 0 nan]\n",
      " [822557738577472503 'PropertyPlug - 2Bed Flat in Edgware SmartTV WiFi'\n",
      "  325629338 ... 35 0 nan]\n",
      " [4876550 'Stunning Apartment 2 minutes walk to Tube Station' 25087384\n",
      "  ... 337 0 nan]\n",
      " ...\n",
      " [9773320 'Spacious room for a Lady in London' 13938346 ... 0 0 nan]\n",
      " [15460327 'Entire house w Private Garden in cool East London' 56872646\n",
      "  ... 0 0 nan]\n",
      " [17376717 'Notting Hill Pied-a-Terre' 117429579 ... 0 4 nan]]\n",
      "Index(['id', 'name', 'host_id', 'host_name', 'neighbourhood_group',\n",
      "       'neighbourhood', 'latitude', 'longitude', 'room_type', 'price',\n",
      "       'minimum_nights', 'number_of_reviews', 'last_review',\n",
      "       'reviews_per_month', 'calculated_host_listings_count',\n",
      "       'availability_365', 'number_of_reviews_ltm', 'license'],\n",
      "      dtype='object')\n",
      "RangeIndex(start=0, stop=75241, step=1)\n"
     ]
    }
   ],
   "source": [
    "print(listings.values)\n",
    "print(listings.columns)\n",
    "print(listings.index)"
   ]
  },
  {
   "cell_type": "code",
   "execution_count": 24,
   "metadata": {},
   "outputs": [
    {
     "name": "stdout",
     "output_type": "stream",
     "text": [
      "             id                                               name    host_id  \\\n",
      "18494  23472846                                        Shared room  175198291   \n",
      "52624  36056861  Its oly 5-10 Mins walk to Croydon Shopping Centre  271248532   \n",
      "65602  43085423                                 Couch in Flatshare  341843255   \n",
      "61627  43113509                                 Couch in Flatshare  341843255   \n",
      "9022    8846530                 Double Room Short Let Peckham £250   46325950   \n",
      "\n",
      "        host_name  neighbourhood_group neighbourhood  latitude  longitude  \\\n",
      "18494     Krystal                  NaN       Croydon  51.35491   -0.06737   \n",
      "52624       Paran                  NaN       Croydon  51.37998   -0.09877   \n",
      "65602      Bobbie                  NaN       Croydon  51.36833   -0.10088   \n",
      "61627      Bobbie                  NaN       Croydon  51.36864   -0.09914   \n",
      "9022   Abdirahman                  NaN     Southwark  51.46515   -0.07261   \n",
      "\n",
      "          room_type  price  minimum_nights  number_of_reviews last_review  \\\n",
      "18494   Shared room      7               1                  0         NaN   \n",
      "52624  Private room     10             182                  0         NaN   \n",
      "65602   Shared room     10               5                  0         NaN   \n",
      "61627   Shared room     12               3                  0         NaN   \n",
      "9022   Private room     12               1                  0         NaN   \n",
      "\n",
      "       reviews_per_month  calculated_host_listings_count  availability_365  \\\n",
      "18494                NaN                               1                 0   \n",
      "52624                NaN                               1                57   \n",
      "65602                NaN                               3                 0   \n",
      "61627                NaN                               3                 0   \n",
      "9022                 NaN                               1                 0   \n",
      "\n",
      "       number_of_reviews_ltm  license  \\\n",
      "18494                      0      NaN   \n",
      "52624                      0      NaN   \n",
      "65602                      0      NaN   \n",
      "61627                      0      NaN   \n",
      "9022                       0      NaN   \n",
      "\n",
      "                                       min_price_of_stay  \n",
      "18494  CroydonCroydonCroydonCroydonCroydonCroydonCroydon  \n",
      "52624  CroydonCroydonCroydonCroydonCroydonCroydonCroy...  \n",
      "65602  CroydonCroydonCroydonCroydonCroydonCroydonCroy...  \n",
      "61627  CroydonCroydonCroydonCroydonCroydonCroydonCroy...  \n",
      "9022   SouthwarkSouthwarkSouthwarkSouthwarkSouthwarkS...  \n"
     ]
    }
   ],
   "source": [
    "listings_price_nights = listings[(listings['price'] != 0) & (listings['neighbourhood'].isin(['Croydon','Southwark']))].sort_values([\"price\", \"minimum_nights\"], ascending=[True, False])\n",
    "listings_price_nights['min_price_of_stay'] = listings_price_nights['price'] * listings_price_nights['neighbourhood']\n",
    "print(listings_price_nights.head())\n",
    "# select one column df[\"col_a\"]\n",
    "# select multiple columns df[[\"col_a\", \"col_b\"]]"
   ]
  },
  {
   "cell_type": "code",
   "execution_count": 30,
   "metadata": {},
   "outputs": [
    {
     "name": "stdout",
     "output_type": "stream",
     "text": [
      "120.0\n",
      "0\n",
      "100.0\n",
      "175.7344532900945\n",
      "70111\n"
     ]
    }
   ],
   "source": [
    "def iqr(column):\n",
    "    return column.quantile(0.75) - column.quantile(0.25)\n",
    "    \n",
    "# Print IQR of the temperature_c column\n",
    "print(listings['price'].agg(iqr))\n",
    "print(listings['price'].agg(np.min))\n",
    "print(listings['price'].agg(np.median))\n",
    "print(listings['price'].agg(np.mean))\n",
    "print(listings['price'].agg(np.max))"
   ]
  },
  {
   "cell_type": "code",
   "execution_count": null,
   "metadata": {},
   "outputs": [],
   "source": []
  }
 ],
 "metadata": {
  "kernelspec": {
   "display_name": "data-science-basics",
   "language": "python",
   "name": "python3"
  },
  "language_info": {
   "codemirror_mode": {
    "name": "ipython",
    "version": 3
   },
   "file_extension": ".py",
   "mimetype": "text/x-python",
   "name": "python",
   "nbconvert_exporter": "python",
   "pygments_lexer": "ipython3",
   "version": "3.10.9"
  },
  "orig_nbformat": 4
 },
 "nbformat": 4,
 "nbformat_minor": 2
}
